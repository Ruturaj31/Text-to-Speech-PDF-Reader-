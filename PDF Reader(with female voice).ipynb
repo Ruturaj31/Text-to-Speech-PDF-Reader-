{
 "cells": [
  {
   "cell_type": "code",
   "execution_count": 2,
   "id": "ca70ddc7",
   "metadata": {},
   "outputs": [
    {
     "name": "stdout",
     "output_type": "stream",
     "text": [
      "Collecting pyttsx3Note: you may need to restart the kernel to use updated packages.\n",
      "  Using cached pyttsx3-2.90-py3-none-any.whl (39 kB)\n",
      "Requirement already satisfied: comtypes in c:\\users\\hp\\anaconda3\\lib\\site-packages (from pyttsx3) (1.1.10)\n",
      "Collecting pypiwin32\n",
      "\n",
      "  Using cached pypiwin32-223-py3-none-any.whl (1.7 kB)\n",
      "Requirement already satisfied: pywin32 in c:\\users\\hp\\anaconda3\\lib\\site-packages (from pyttsx3) (302)\n",
      "Installing collected packages: pypiwin32, pyttsx3\n",
      "Successfully installed pypiwin32-223 pyttsx3-2.90\n"
     ]
    }
   ],
   "source": [
    "pip install pyttsx3"
   ]
  },
  {
   "cell_type": "code",
   "execution_count": 3,
   "id": "ef2a6104",
   "metadata": {},
   "outputs": [
    {
     "name": "stdout",
     "output_type": "stream",
     "text": [
      "Collecting PyPDF2\n",
      "  Using cached PyPDF2-2.11.1-py3-none-any.whl (220 kB)\n",
      "Requirement already satisfied: typing-extensions>=3.10.0.0 in c:\\users\\hp\\anaconda3\\lib\\site-packages (from PyPDF2) (4.1.1)\n",
      "Installing collected packages: PyPDF2\n",
      "Successfully installed PyPDF2-2.11.1\n",
      "Note: you may need to restart the kernel to use updated packages.\n"
     ]
    }
   ],
   "source": [
    "pip install PyPDF2"
   ]
  },
  {
   "cell_type": "code",
   "execution_count": 1,
   "id": "b363305b",
   "metadata": {},
   "outputs": [],
   "source": [
    "#importing pyttsx3 and pyPDF2\n",
    "\n",
    "import pyttsx3\n",
    "import PyPDF2"
   ]
  },
  {
   "cell_type": "code",
   "execution_count": 3,
   "id": "77ddb0b9",
   "metadata": {},
   "outputs": [],
   "source": [
    "pdf_book = open('stories.pdf' ,'rb')\n",
    "#rb read only mode in the binary format\n"
   ]
  },
  {
   "cell_type": "code",
   "execution_count": 4,
   "id": "bbbc6e6f",
   "metadata": {},
   "outputs": [],
   "source": [
    "reading_pdf = PyPDF2.PdfFileReader(pdf_book)\n",
    "pdf_pages = reading_pdf.numPages"
   ]
  },
  {
   "cell_type": "code",
   "execution_count": 6,
   "id": "1dc6da4f",
   "metadata": {},
   "outputs": [
    {
     "name": "stdout",
     "output_type": "stream",
     "text": [
      "HKEY_LOCAL_MACHINE\\SOFTWARE\\Microsoft\\Speech\\Voices\\Tokens\\TTS_MS_EN-US_DAVID_11.0\n",
      "HKEY_LOCAL_MACHINE\\SOFTWARE\\Microsoft\\Speech\\Voices\\Tokens\\TTS_MS_EN-US_ZIRA_11.0\n"
     ]
    }
   ],
   "source": [
    "pdf_speaker = pyttsx3.init()\n",
    "voices = pdf_speaker.getProperty('voices')#initializing\n",
    "\n",
    "\n",
    "for voice in voices:\n",
    "    print(voice.id)\n",
    "    pdf_speaker.setProperty('voice',voice.id)\n",
    "\n",
    "\n",
    "\n",
    "choose_page = reading_pdf.getPage(1)#Here the number of pages will be calculated according to the index and not your page number.\n",
    "pdf_text = choose_page.extractText()#only exteacting the text so that it does not stop reading if a image comes in between.\n",
    "pdf_speaker.say(pdf_text)\n",
    "pdf_speaker.runAndWait()"
   ]
  },
  {
   "cell_type": "code",
   "execution_count": null,
   "id": "15f95b60",
   "metadata": {},
   "outputs": [],
   "source": []
  }
 ],
 "metadata": {
  "kernelspec": {
   "display_name": "Python 3 (ipykernel)",
   "language": "python",
   "name": "python3"
  },
  "language_info": {
   "codemirror_mode": {
    "name": "ipython",
    "version": 3
   },
   "file_extension": ".py",
   "mimetype": "text/x-python",
   "name": "python",
   "nbconvert_exporter": "python",
   "pygments_lexer": "ipython3",
   "version": "3.9.12"
  }
 },
 "nbformat": 4,
 "nbformat_minor": 5
}
